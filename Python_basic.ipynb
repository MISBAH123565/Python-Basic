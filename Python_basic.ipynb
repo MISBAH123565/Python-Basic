{
  "nbformat": 4,
  "nbformat_minor": 0,
  "metadata": {
    "colab": {
      "provenance": []
    },
    "kernelspec": {
      "name": "python3",
      "display_name": "Python 3"
    },
    "language_info": {
      "name": "python"
    }
  },
  "cells": [
    {
      "cell_type": "markdown",
      "source": [
        "1 What is python, and why is it popular?\n",
        "### -> Python is a programming language\n",
        "It is popular becouse:-\n",
        "It is easy to learn\n",
        "Widely used in industry\n",
        "Widely used in data industry\n",
        "A lots of libraries\n"
      ],
      "metadata": {
        "id": "2HbXydMi3Zwo"
      }
    },
    {
      "cell_type": "markdown",
      "source": [
        "2 What are an interpreter in Python?\n",
        "### A computer Program that converts each high level program statement into machine code"
      ],
      "metadata": {
        "id": "omyaFHNa6yEY"
      }
    },
    {
      "cell_type": "markdown",
      "source": [
        "3 What are pre-defined keywords in Python?\n",
        "### Python predefined keywords are reserved words that have specific meanings and purposes within the language\n",
        "False\n",
        "True\n",
        "None\n",
        "And\n",
        "As\n",
        "Assert\n",
        "Async\n",
        "Await\n",
        "Break\n",
        "Class\n",
        "Continue\n",
        "Def\n",
        "Del\n",
        "Elif\n",
        "Else\n",
        "Except\n",
        "Finally\n",
        "For\n",
        "From\n",
        "Global\n",
        "If\n",
        "Import\n",
        "In\n",
        "Is\n",
        "Lambda\n",
        "Non local\n",
        "Not\n",
        "Or\n",
        "Pass\n",
        "Raise\n",
        "Return\n",
        "Try\n",
        "While\n",
        "With\n",
        "Yield\n",
        "\n"
      ],
      "metadata": {
        "id": "amBpSPbH87Zc"
      }
    },
    {
      "cell_type": "markdown",
      "source": [
        "4 Can keywords be used as variable name?\n",
        "### They can not be used as variable names"
      ],
      "metadata": {
        "id": "inYdquL3JZge"
      }
    },
    {
      "cell_type": "markdown",
      "source": [
        "5 What is mutability in Python?\n",
        "### Object/ Container whose state or value can be changed after they are created"
      ],
      "metadata": {
        "id": "6NJYRzU5J8hL"
      }
    },
    {
      "cell_type": "markdown",
      "source": [
        "6 Why are lists mutable, but tuples are immutable?\n",
        "### Lists are mutable becouse it can change there state or value after they are created\n",
        "### Tuples are immutable becouse it can not change there state or value after they are created"
      ],
      "metadata": {
        "id": "25oX1kTKKfLv"
      }
    },
    {
      "cell_type": "markdown",
      "source": [
        "7 What are difference between \"==\" and \"is\" operators in Python?\n",
        "### \"==\" this operator is used to compare the equality of objects.\n",
        "\"is\" operator is used to check if different variables are pointing to the same object in memory\n"
      ],
      "metadata": {
        "id": "JaemrmS1L0s0"
      }
    },
    {
      "cell_type": "markdown",
      "source": [
        "8.What are logical Operator in Python?\n",
        "### Logical operators are used to combine multiple conditions together and evaluate them as asingle boolean expression"
      ],
      "metadata": {
        "id": "hV0HDcptNIw9"
      }
    },
    {
      "cell_type": "markdown",
      "source": [
        "9. What is type  casting in Python?\n",
        "### Type is the method to convert the Python variable datatype into a certain data type in order to perform the required operation by users \" Type casting is aslo known as Type Conversion\"\n"
      ],
      "metadata": {
        "id": "PwCHLHFKOvsB"
      }
    },
    {
      "cell_type": "markdown",
      "source": [
        "10. What is the difference between implicit and explicity type casting?\n",
        "### Inplicity Casting is automatic  while explicity casting is manual"
      ],
      "metadata": {
        "id": "GAIEHXqoQaws"
      }
    },
    {
      "cell_type": "markdown",
      "source": [
        "11. What is purpose of conditional statements in Python?\n",
        "### The purpose of conditional statements is to handle conditions in your program"
      ],
      "metadata": {
        "id": "Gybr8XdiRA0s"
      }
    },
    {
      "cell_type": "markdown",
      "source": [
        "12. How does the elif statement work?\n",
        "### A conditional statement that allows you to check multiple conditions in sequence"
      ],
      "metadata": {
        "id": "fKecOq6FRqxM"
      }
    },
    {
      "cell_type": "markdown",
      "source": [
        "13. what is the difference between for and while loops?\n",
        "### for loop iterates over a sequence or other iterable object\n",
        "### while loop repeatedly executed a block of code untill a condition is net"
      ],
      "metadata": {
        "id": "VWZO-6AeSbLY"
      }
    },
    {
      "cell_type": "markdown",
      "source": [
        "14.Describe a scenario where a while loop is more suitable than a for loop?\n",
        "### a \"while\" loop is more suitable than a \"for\" loop when you don't know exactly how many times you need to repeat a block of code beforehand and instesd want the loop to continue as long as acertain condition remains true, which could potentially change dynamically during the loop's execution"
      ],
      "metadata": {
        "id": "0KULcIt-Tm5z"
      }
    },
    {
      "cell_type": "markdown",
      "source": [
        "# PRACTICAL QUESTION"
      ],
      "metadata": {
        "id": "ufVkR3wQf9l5"
      }
    },
    {
      "cell_type": "markdown",
      "source": [
        "## 1 Write a python program to print :Hello World\""
      ],
      "metadata": {
        "id": "ZXlXxAv3VDcY"
      }
    },
    {
      "cell_type": "code",
      "source": [
        "print(\"Hello World\")"
      ],
      "metadata": {
        "colab": {
          "base_uri": "https://localhost:8080/"
        },
        "id": "0-uu4ISDVU6j",
        "outputId": "931e9890-3e0b-433d-fbf9-6a379c02ce17"
      },
      "execution_count": null,
      "outputs": [
        {
          "output_type": "stream",
          "name": "stdout",
          "text": [
            "Hello World\n"
          ]
        }
      ]
    },
    {
      "cell_type": "markdown",
      "source": [
        "## 2 Write a Python program that display you name and age"
      ],
      "metadata": {
        "id": "M6ATq1vsW8Lh"
      }
    },
    {
      "cell_type": "code",
      "source": [
        "Name=\"Misbah Fatma\"\n",
        "Age=21\n",
        "print(\"Name-\",name)\n",
        "print(\"Age-\",age)\n",
        "\n"
      ],
      "metadata": {
        "id": "9tGor2nTXZJV",
        "outputId": "86d31c39-f60a-4838-a7e0-1e1798f1398c",
        "colab": {
          "base_uri": "https://localhost:8080/"
        }
      },
      "execution_count": null,
      "outputs": [
        {
          "output_type": "stream",
          "name": "stdout",
          "text": [
            "Name- Misbah Fatma\n",
            "Age- 21\n"
          ]
        }
      ]
    },
    {
      "cell_type": "markdown",
      "source": [
        "## 3. Write code to print all the pre-definined keywords in python using the keyword library"
      ],
      "metadata": {
        "id": "FuUH5-RgY9rb"
      }
    },
    {
      "cell_type": "code",
      "source": [
        "print(\"The list of keywords is:\")"
      ],
      "metadata": {
        "id": "W7FMy_bCZr9D",
        "outputId": "80bf405e-cea9-49ba-8eb6-ffe742886f43",
        "colab": {
          "base_uri": "https://localhost:8080/"
        }
      },
      "execution_count": null,
      "outputs": [
        {
          "output_type": "stream",
          "name": "stdout",
          "text": [
            "The list of keywords is:\n"
          ]
        }
      ]
    },
    {
      "cell_type": "markdown",
      "source": [
        "## 4. Write a program that checks if a given word is a python keywords?"
      ],
      "metadata": {
        "id": "-lCDV0FHbJR9"
      }
    },
    {
      "cell_type": "code",
      "source": [
        "import keyword\n",
        "print(\"keyword\")"
      ],
      "metadata": {
        "id": "6z2G-Ai3bfTb",
        "outputId": "8608ff6c-2939-44a4-af46-fbda115eee0b",
        "colab": {
          "base_uri": "https://localhost:8080/"
        }
      },
      "execution_count": null,
      "outputs": [
        {
          "output_type": "stream",
          "name": "stdout",
          "text": [
            "keyword\n"
          ]
        }
      ]
    },
    {
      "cell_type": "markdown",
      "source": [
        "##5. Create a list and tuple in Python, and demonstrate how attempting to change an element works differently for each?"
      ],
      "metadata": {
        "id": "yCG_QYFGhAfI"
      }
    },
    {
      "cell_type": "code",
      "source": [
        "# Create a list\n",
        "my_list=[\"Mango, Apple, Orange\"]"
      ],
      "metadata": {
        "id": "SgMXAJEjh2zu"
      },
      "execution_count": null,
      "outputs": []
    },
    {
      "cell_type": "markdown",
      "source": [
        "## 6. write a function to demonstrate the behavior of mutual and immutable arguments"
      ],
      "metadata": {
        "id": "zt3BaDV_kc-Y"
      }
    },
    {
      "cell_type": "code",
      "source": [
        "n=int(input(\"please enter you number\"))\n",
        "if n==0:\n",
        "  print(1)\n",
        "else:\n",
        "  def factorial(n):\n",
        "    if n == 0:\n",
        "      return 1\n",
        "    else:\n",
        "      return n * factorial(n-1)\n",
        "  print(factorial(n))\n",
        "  return n*factorial(n-1)"
      ],
      "metadata": {
        "id": "d2HR-WVukzSW",
        "outputId": "75ee7e29-ec9b-4021-ed0a-c71e9d70bf14",
        "colab": {
          "base_uri": "https://localhost:8080/",
          "height": 228
        }
      },
      "execution_count": null,
      "outputs": [
        {
          "name": "stdout",
          "output_type": "stream",
          "text": [
            "please enter you number\n"
          ]
        },
        {
          "output_type": "error",
          "ename": "ValueError",
          "evalue": "invalid literal for int() with base 10: ''",
          "traceback": [
            "\u001b[0;31m---------------------------------------------------------------------------\u001b[0m",
            "\u001b[0;31mValueError\u001b[0m                                Traceback (most recent call last)",
            "\u001b[0;32m<ipython-input-37-4d666bac9207>\u001b[0m in \u001b[0;36m<cell line: 1>\u001b[0;34m()\u001b[0m\n\u001b[0;32m----> 1\u001b[0;31m \u001b[0mn\u001b[0m\u001b[0;34m=\u001b[0m\u001b[0mint\u001b[0m\u001b[0;34m(\u001b[0m\u001b[0minput\u001b[0m\u001b[0;34m(\u001b[0m\u001b[0;34m\"please enter you number\"\u001b[0m\u001b[0;34m)\u001b[0m\u001b[0;34m)\u001b[0m\u001b[0;34m\u001b[0m\u001b[0;34m\u001b[0m\u001b[0m\n\u001b[0m\u001b[1;32m      2\u001b[0m \u001b[0;32mif\u001b[0m \u001b[0mn\u001b[0m\u001b[0;34m==\u001b[0m\u001b[0;36m0\u001b[0m\u001b[0;34m:\u001b[0m\u001b[0;34m\u001b[0m\u001b[0;34m\u001b[0m\u001b[0m\n\u001b[1;32m      3\u001b[0m   \u001b[0mprint\u001b[0m\u001b[0;34m(\u001b[0m\u001b[0;36m1\u001b[0m\u001b[0;34m)\u001b[0m\u001b[0;34m\u001b[0m\u001b[0;34m\u001b[0m\u001b[0m\n\u001b[1;32m      4\u001b[0m \u001b[0;32melse\u001b[0m\u001b[0;34m:\u001b[0m\u001b[0;34m\u001b[0m\u001b[0;34m\u001b[0m\u001b[0m\n\u001b[1;32m      5\u001b[0m   \u001b[0;32mdef\u001b[0m \u001b[0mfactorial\u001b[0m\u001b[0;34m(\u001b[0m\u001b[0mn\u001b[0m\u001b[0;34m)\u001b[0m\u001b[0;34m:\u001b[0m\u001b[0;34m\u001b[0m\u001b[0;34m\u001b[0m\u001b[0m\n",
            "\u001b[0;31mValueError\u001b[0m: invalid literal for int() with base 10: ''"
          ]
        }
      ]
    },
    {
      "cell_type": "markdown",
      "source": [
        "## 8. Write a program to demonstrate the use of logical operators"
      ],
      "metadata": {
        "id": "a1ZfL7LCkz1D"
      }
    },
    {
      "cell_type": "code",
      "source": [
        "a=2\n",
        "b=22\n",
        "#use of and operator\n",
        "if a>=1 and b>=1:\n",
        "  print (\"both are natural number\")\n",
        "else:\n",
        "  print (\"not both\")\n",
        "\n",
        "#use of or operator\n",
        "if a>0 or b>0:\n",
        "  print (\"one of them or both are positive numbers\")\n",
        "else:\n",
        "  print(\"both are negetive numer\")\n",
        "\n",
        "#use of not operator\n",
        "if not(a>0 and b>0):\n",
        "  print (\"one of them or both are positive numbers\")\n",
        "else :\n",
        "  print(\"one of them is negetive number\")"
      ],
      "metadata": {
        "id": "4ZlCPoyYlAzD",
        "outputId": "2ebcbe28-cfa7-4e12-fb72-dd424386c9cc",
        "colab": {
          "base_uri": "https://localhost:8080/"
        }
      },
      "execution_count": null,
      "outputs": [
        {
          "output_type": "stream",
          "name": "stdout",
          "text": [
            "both are natural number\n",
            "one of them or both are positive numbers\n",
            "one of them is negetive number\n"
          ]
        }
      ]
    },
    {
      "cell_type": "markdown",
      "source": [
        "## 9. Write a python program to convert user input from string to integer, float, and boolean type"
      ],
      "metadata": {
        "id": "_OEcjdbylBQ5"
      }
    },
    {
      "cell_type": "code",
      "source": [
        "st=input(\"enter your str: \")\n",
        "print(int(st))\n",
        "print(float(st))\n",
        "print(bool(st))"
      ],
      "metadata": {
        "id": "CuqHP-b9lUnc",
        "outputId": "997eefc6-6fa6-4266-898f-60401fcc95aa",
        "colab": {
          "base_uri": "https://localhost:8080/"
        }
      },
      "execution_count": null,
      "outputs": [
        {
          "output_type": "stream",
          "name": "stdout",
          "text": [
            "enter your str: 1234\n",
            "1234\n",
            "1234.0\n",
            "True\n"
          ]
        }
      ]
    },
    {
      "cell_type": "markdown",
      "source": [
        "## 10. Write code to demonstrate type casting with list elements"
      ],
      "metadata": {
        "id": "OJgeOZQElU_U"
      }
    },
    {
      "cell_type": "code",
      "source": [],
      "metadata": {
        "id": "1HcJVvkz5GGS"
      },
      "execution_count": null,
      "outputs": []
    },
    {
      "cell_type": "markdown",
      "source": [
        "## 11. Write a program that checks if a number is podsitive, negative, or zero"
      ],
      "metadata": {
        "id": "a0UdSgwalj4B"
      }
    },
    {
      "cell_type": "code",
      "source": [
        "num=float(input(\"enter a number:\"))\n",
        "num=float(input(\"enter a number:\"))\n",
        "if num>0:\n",
        "  print(\"positive number\")\n",
        "elif num==0:\n",
        "    print(\"zero\")\n",
        "else:\n",
        "      print(\"negative number\")\n",
        "      print(\"negative number\")"
      ],
      "metadata": {
        "id": "Brnksc3_l7c5",
        "outputId": "3f3402d2-70a3-4d18-929d-bfbbe16423a0",
        "colab": {
          "base_uri": "https://localhost:8080/",
          "height": 356
        }
      },
      "execution_count": null,
      "outputs": [
        {
          "output_type": "error",
          "ename": "KeyboardInterrupt",
          "evalue": "Interrupted by user",
          "traceback": [
            "\u001b[0;31m---------------------------------------------------------------------------\u001b[0m",
            "\u001b[0;31mKeyboardInterrupt\u001b[0m                         Traceback (most recent call last)",
            "\u001b[0;32m<ipython-input-50-fa28bf691e20>\u001b[0m in \u001b[0;36m<cell line: 2>\u001b[0;34m()\u001b[0m\n\u001b[1;32m      1\u001b[0m \u001b[0mnum\u001b[0m\u001b[0;34m=\u001b[0m\u001b[0mfloat\u001b[0m\u001b[0;34m(\u001b[0m\u001b[0minput\u001b[0m\u001b[0;34m(\u001b[0m\u001b[0;34m\"enter a number:\"\u001b[0m\u001b[0;34m)\u001b[0m\u001b[0;34m)\u001b[0m\u001b[0;34m\u001b[0m\u001b[0;34m\u001b[0m\u001b[0m\n\u001b[0;32m----> 2\u001b[0;31m \u001b[0mnum\u001b[0m\u001b[0;34m=\u001b[0m\u001b[0mfloat\u001b[0m\u001b[0;34m(\u001b[0m\u001b[0minput\u001b[0m\u001b[0;34m(\u001b[0m\u001b[0;34m\"enter a number:\"\u001b[0m\u001b[0;34m)\u001b[0m\u001b[0;34m)\u001b[0m\u001b[0;34m\u001b[0m\u001b[0;34m\u001b[0m\u001b[0m\n\u001b[0m\u001b[1;32m      3\u001b[0m \u001b[0;32mif\u001b[0m \u001b[0mnum\u001b[0m\u001b[0;34m>\u001b[0m\u001b[0;36m0\u001b[0m\u001b[0;34m:\u001b[0m\u001b[0;34m\u001b[0m\u001b[0;34m\u001b[0m\u001b[0m\n\u001b[1;32m      4\u001b[0m   \u001b[0mprint\u001b[0m\u001b[0;34m(\u001b[0m\u001b[0;34m\"positive number\"\u001b[0m\u001b[0;34m)\u001b[0m\u001b[0;34m\u001b[0m\u001b[0;34m\u001b[0m\u001b[0m\n\u001b[1;32m      5\u001b[0m \u001b[0;32melif\u001b[0m \u001b[0mnum\u001b[0m\u001b[0;34m==\u001b[0m\u001b[0;36m0\u001b[0m\u001b[0;34m:\u001b[0m\u001b[0;34m\u001b[0m\u001b[0;34m\u001b[0m\u001b[0m\n",
            "\u001b[0;32m/usr/local/lib/python3.10/dist-packages/ipykernel/kernelbase.py\u001b[0m in \u001b[0;36mraw_input\u001b[0;34m(self, prompt)\u001b[0m\n\u001b[1;32m    849\u001b[0m                 \u001b[0;34m\"raw_input was called, but this frontend does not support input requests.\"\u001b[0m\u001b[0;34m\u001b[0m\u001b[0;34m\u001b[0m\u001b[0m\n\u001b[1;32m    850\u001b[0m             )\n\u001b[0;32m--> 851\u001b[0;31m         return self._input_request(str(prompt),\n\u001b[0m\u001b[1;32m    852\u001b[0m             \u001b[0mself\u001b[0m\u001b[0;34m.\u001b[0m\u001b[0m_parent_ident\u001b[0m\u001b[0;34m,\u001b[0m\u001b[0;34m\u001b[0m\u001b[0;34m\u001b[0m\u001b[0m\n\u001b[1;32m    853\u001b[0m             \u001b[0mself\u001b[0m\u001b[0;34m.\u001b[0m\u001b[0m_parent_header\u001b[0m\u001b[0;34m,\u001b[0m\u001b[0;34m\u001b[0m\u001b[0;34m\u001b[0m\u001b[0m\n",
            "\u001b[0;32m/usr/local/lib/python3.10/dist-packages/ipykernel/kernelbase.py\u001b[0m in \u001b[0;36m_input_request\u001b[0;34m(self, prompt, ident, parent, password)\u001b[0m\n\u001b[1;32m    893\u001b[0m             \u001b[0;32mexcept\u001b[0m \u001b[0mKeyboardInterrupt\u001b[0m\u001b[0;34m:\u001b[0m\u001b[0;34m\u001b[0m\u001b[0;34m\u001b[0m\u001b[0m\n\u001b[1;32m    894\u001b[0m                 \u001b[0;31m# re-raise KeyboardInterrupt, to truncate traceback\u001b[0m\u001b[0;34m\u001b[0m\u001b[0;34m\u001b[0m\u001b[0m\n\u001b[0;32m--> 895\u001b[0;31m                 \u001b[0;32mraise\u001b[0m \u001b[0mKeyboardInterrupt\u001b[0m\u001b[0;34m(\u001b[0m\u001b[0;34m\"Interrupted by user\"\u001b[0m\u001b[0;34m)\u001b[0m \u001b[0;32mfrom\u001b[0m \u001b[0;32mNone\u001b[0m\u001b[0;34m\u001b[0m\u001b[0;34m\u001b[0m\u001b[0m\n\u001b[0m\u001b[1;32m    896\u001b[0m             \u001b[0;32mexcept\u001b[0m \u001b[0mException\u001b[0m \u001b[0;32mas\u001b[0m \u001b[0me\u001b[0m\u001b[0;34m:\u001b[0m\u001b[0;34m\u001b[0m\u001b[0;34m\u001b[0m\u001b[0m\n\u001b[1;32m    897\u001b[0m                 \u001b[0mself\u001b[0m\u001b[0;34m.\u001b[0m\u001b[0mlog\u001b[0m\u001b[0;34m.\u001b[0m\u001b[0mwarning\u001b[0m\u001b[0;34m(\u001b[0m\u001b[0;34m\"Invalid Message:\"\u001b[0m\u001b[0;34m,\u001b[0m \u001b[0mexc_info\u001b[0m\u001b[0;34m=\u001b[0m\u001b[0;32mTrue\u001b[0m\u001b[0;34m)\u001b[0m\u001b[0;34m\u001b[0m\u001b[0;34m\u001b[0m\u001b[0m\n",
            "\u001b[0;31mKeyboardInterrupt\u001b[0m: Interrupted by user"
          ]
        }
      ]
    },
    {
      "cell_type": "markdown",
      "source": [
        "## 12. Write a for loop to print number from 1 to 10"
      ],
      "metadata": {
        "id": "2FIEu5J_l8B4"
      }
    },
    {
      "cell_type": "code",
      "source": [
        "for i in range(1,11):\n",
        "  print(i)"
      ],
      "metadata": {
        "id": "VhhvnkF6mIj0",
        "outputId": "9dd184a1-490f-40a8-ffdf-d7ed21e37db7",
        "colab": {
          "base_uri": "https://localhost:8080/"
        }
      },
      "execution_count": null,
      "outputs": [
        {
          "output_type": "stream",
          "name": "stdout",
          "text": [
            "1\n",
            "2\n",
            "3\n",
            "4\n",
            "5\n",
            "6\n",
            "7\n",
            "8\n",
            "9\n",
            "10\n"
          ]
        }
      ]
    },
    {
      "cell_type": "markdown",
      "source": [
        "## 13. Write a python program to find the sum of all even number betweer 1 to 50"
      ],
      "metadata": {
        "id": "LTLnuzTImI8Z"
      }
    },
    {
      "cell_type": "code",
      "source": [
        "a=0\n",
        "for i in range (1,51):\n",
        "  if i%2==0:\n",
        "    a=a+i\n",
        "    print(a)"
      ],
      "metadata": {
        "id": "yjirKm_zp1bO",
        "outputId": "398c4be8-9480-4f52-e81a-a741b07b0662",
        "colab": {
          "base_uri": "https://localhost:8080/"
        }
      },
      "execution_count": null,
      "outputs": [
        {
          "output_type": "stream",
          "name": "stdout",
          "text": [
            "2\n",
            "6\n",
            "12\n",
            "20\n",
            "30\n",
            "42\n",
            "56\n",
            "72\n",
            "90\n",
            "110\n",
            "132\n",
            "156\n",
            "182\n",
            "210\n",
            "240\n",
            "272\n",
            "306\n",
            "342\n",
            "380\n",
            "420\n",
            "462\n",
            "506\n",
            "552\n",
            "600\n",
            "650\n"
          ]
        }
      ]
    },
    {
      "cell_type": "markdown",
      "source": [
        "## 14. Write a program to reverse a string using a while loop"
      ],
      "metadata": {
        "id": "qJh1fG76p14H"
      }
    },
    {
      "cell_type": "code",
      "source": [
        "a=input(\"please enter your own\")\n",
        "b=''\n",
        "i=len(a)-1\n",
        "while(i>=0):\n",
        "  b=b+a[i]\n",
        "  i=i-1\n",
        "  print(\"the original=\",a)\n",
        "  print(\"the invertd=\",b)"
      ],
      "metadata": {
        "id": "zyWcegO4qEil"
      },
      "execution_count": null,
      "outputs": []
    },
    {
      "cell_type": "markdown",
      "source": [
        "## 15. Write a python program to calculate the factorial of anumber provided by the using a while loop"
      ],
      "metadata": {
        "id": "q4OoMqi4qE4t"
      }
    },
    {
      "cell_type": "code",
      "source": [
        "def factorial_using_loop(number):\n",
        "  \"This function calculates the factorial using while loop\"\n",
        "  fact=1\n",
        "  while number>0:\n",
        "        fact= fact*number\n",
        "def factorial_using_loop(number):\n",
        "  \"This function calculates the factorial using while loop\"\n",
        "  fact=1\n",
        "  while number>0:\n",
        "        fact= fact*number\n",
        "        number=number-1\n",
        "  return fact\n",
        "#while number>0 #This while loop is not correctly indented and has no effect\n",
        "#      fact= fact*number\n",
        "#      number=number-1\n"
      ],
      "metadata": {
        "id": "LQ6rihW-qVSJ"
      },
      "execution_count": null,
      "outputs": []
    }
  ]
}